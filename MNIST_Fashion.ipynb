{
  "nbformat": 4,
  "nbformat_minor": 0,
  "metadata": {
    "colab": {
      "name": "MNIST Fashion.ipynb",
      "provenance": []
    },
    "kernelspec": {
      "name": "python3",
      "display_name": "Python 3"
    },
    "language_info": {
      "name": "python"
    },
    "accelerator": "GPU"
  },
  "cells": [
    {
      "cell_type": "code",
      "execution_count": null,
      "metadata": {
        "id": "3rwLscd6koiE"
      },
      "outputs": [],
      "source": [
        "# Basic Deep Learning - NN"
      ]
    },
    {
      "cell_type": "code",
      "source": [
        "import tensorflow as tf\n",
        "print(tf.__version__)"
      ],
      "metadata": {
        "colab": {
          "base_uri": "https://localhost:8080/"
        },
        "id": "FWXu_TlCl75Q",
        "outputId": "a5cabadb-4b12-4683-c868-9d2152b8d96e"
      },
      "execution_count": null,
      "outputs": [
        {
          "output_type": "stream",
          "name": "stdout",
          "text": [
            "2.8.0\n"
          ]
        }
      ]
    },
    {
      "cell_type": "markdown",
      "source": [
        "# Load dataset\n",
        "\n"
      ],
      "metadata": {
        "id": "R_qSMf8kmIwG"
      }
    },
    {
      "cell_type": "code",
      "source": [
        "mnist = tf.keras.datasets.fashion_mnist"
      ],
      "metadata": {
        "id": "_-Jgajxgmq5a"
      },
      "execution_count": null,
      "outputs": []
    },
    {
      "cell_type": "markdown",
      "source": [
        ""
      ],
      "metadata": {
        "id": "3A3btxzSm4EB"
      }
    },
    {
      "cell_type": "code",
      "source": [
        "# https://www.tensorflow.org/api_docs/python/tf/keras/datasets/fashion_mnist/load_data\n",
        "\n",
        "\n",
        "(training_images, training_labels), (test_images, test_labels) = mnist.load_data()"
      ],
      "metadata": {
        "colab": {
          "base_uri": "https://localhost:8080/"
        },
        "id": "dnrF1fHqnAM2",
        "outputId": "ee44179c-cc15-4cdb-e0bd-539cd5393153"
      },
      "execution_count": null,
      "outputs": [
        {
          "output_type": "stream",
          "name": "stdout",
          "text": [
            "Downloading data from https://storage.googleapis.com/tensorflow/tf-keras-datasets/train-labels-idx1-ubyte.gz\n",
            "32768/29515 [=================================] - 0s 0us/step\n",
            "40960/29515 [=========================================] - 0s 0us/step\n",
            "Downloading data from https://storage.googleapis.com/tensorflow/tf-keras-datasets/train-images-idx3-ubyte.gz\n",
            "26427392/26421880 [==============================] - 0s 0us/step\n",
            "26435584/26421880 [==============================] - 0s 0us/step\n",
            "Downloading data from https://storage.googleapis.com/tensorflow/tf-keras-datasets/t10k-labels-idx1-ubyte.gz\n",
            "16384/5148 [===============================================================================================] - 0s 0us/step\n",
            "Downloading data from https://storage.googleapis.com/tensorflow/tf-keras-datasets/t10k-images-idx3-ubyte.gz\n",
            "4423680/4422102 [==============================] - 0s 0us/step\n",
            "4431872/4422102 [==============================] - 0s 0us/step\n"
          ]
        }
      ]
    },
    {
      "cell_type": "markdown",
      "source": [
        "# Check Sample Data"
      ],
      "metadata": {
        "id": "uhK1Wo4uon1F"
      }
    },
    {
      "cell_type": "code",
      "source": [
        "import matplotlib.pyplot as plt\n",
        "\n",
        "plt.imshow(training_images[10])\n",
        "\n",
        "print('Label', training_labels[10])\n",
        "print('Data Image', training_images[10])"
      ],
      "metadata": {
        "colab": {
          "base_uri": "https://localhost:8080/",
          "height": 1000
        },
        "id": "44LPl-JCndc1",
        "outputId": "69517e9d-c91b-4381-8175-4a953ed8bdb5"
      },
      "execution_count": null,
      "outputs": [
        {
          "output_type": "stream",
          "name": "stdout",
          "text": [
            "Label 0\n",
            "Data Image [[  0   0   0   0   0   0   0  11 142 200 106   0   0   0   0   0   0   0\n",
            "   85 185 112   0   0   0   0   0   0   0]\n",
            " [  0   0   0   0   0   0 152 214 217 194 236 216 187 149 135 153 211 217\n",
            "  231 205 217 188  34   0   0   0   0   0]\n",
            " [  0   0   0   0   0  66 185 166 180 181 190 211 221 197 146 198 206 191\n",
            "  168 190 172 188 175   0   0   0   0   0]\n",
            " [  0   0   0   0   0 135 153 160 175 180 170 186 187 190 188 190 187 174\n",
            "  195 185 174 161 175  59   0   0   0   0]\n",
            " [  0   0   0   0   0 161 147 160 170 178 177 180 168 173 174 171 185 184\n",
            "  185 172 171 164 174 120   0   0   0   0]\n",
            " [  0   0   0   0   2 175 146 145 168 178 181 185 180 184 178 179 187 191\n",
            "  193 190 181 171 172 158   0   0   0   0]\n",
            " [  0   0   0   0  35 177 155 140 151 172 191 187 186 187 186 187 182 191\n",
            "  194 188 180 161 161 185   0   0   0   0]\n",
            " [  0   0   0   0  59 170 153 141 120 154 160 161 172 168 166 161 165 172\n",
            "  170 164 139 149 162 166  21   0   0   0]\n",
            " [  0   0   0   0  79 145 160 214 123 128 153 160 164 158 157 154 155 170\n",
            "  165 141 195 193 152 166  61   0   0   0]\n",
            " [  0   0   0   0 100 157 225 245 175 113 174 158 158 160 155 160 164 178\n",
            "  188 135 185 240 201 172 108   0   0   0]\n",
            " [  0   0   0   0   0  31 174  28 126 153 166 152 158 158 160 161 157 168\n",
            "  191 188  18 132 159   7   0   0   0   0]\n",
            " [  0   0   0   0   0   0   0   0  82 187 159 153 157 158 162 164 164 154\n",
            "  187 190   0   0   0   0   0   0   0   0]\n",
            " [  0   0   0   0   1   3   5   0  37 175 158 155 162 158 160 162 165 153\n",
            "  177 205   0   0   3   3   0   0   0   0]\n",
            " [  0   0   0   0   0   0   1   0  25 175 152 160 158 161 160 164 164 161\n",
            "  166 200   0   0   1   0   0   0   0   0]\n",
            " [  0   0   0   0   0   0   4   0  30 171 147 164 155 165 161 165 162 170\n",
            "  164 162   0   0   2   0   0   0   0   0]\n",
            " [  0   0   0   0   0   0   4   0  57 166 155 164 166 161 161 164 167 165\n",
            "  165 162  28   0   3   0   0   0   0   0]\n",
            " [  0   0   0   0   0   0   3   0 114 161 161 166 159 168 161 161 172 162\n",
            "  165 171  50   0   5   0   0   0   0   0]\n",
            " [  0   0   0   0   0   0   1   0 149 157 167 172 159 172 164 161 172 170\n",
            "  160 171  89   0   4   0   0   0   0   0]\n",
            " [  0   0   0   0   0   2   0   4 171 164 166 173 159 179 166 160 174 167\n",
            "  162 166 128   0   2   0   0   0   0   0]\n",
            " [  0   0   0   0   0   3   0  18 152 173 160 179 154 181 166 164 175 170\n",
            "  166 170 164   0   0   1   0   0   0   0]\n",
            " [  0   0   0   0   0   4   0  47 165 172 167 185 153 187 173 165 174 179\n",
            "  166 166 158   5   0   3   0   0   0   0]\n",
            " [  0   0   0   0   0   4   0  87 180 162 179 179 157 191 182 165 168 190\n",
            "  173 165 166  20   0   4   0   0   0   0]\n",
            " [  0   0   0   0   0   4   0 105 187 157 194 175 161 190 184 170 158 205\n",
            "  177 168 171  44   0   4   0   0   0   0]\n",
            " [  0   0   0   0   0   5   0 138 181 158 205 160 167 190 198 167 152 218\n",
            "  186 170 172  57   0   5   0   0   0   0]\n",
            " [  0   0   0   0   0   5   0 135 174 167 199 155 166 201 219 165 158 218\n",
            "  188 167 175  56   0   7   0   0   0   0]\n",
            " [  0   0   0   0   0   5   0 129 171 172 177 153 159 206 216 148 157 206\n",
            "  190 165 175  48   0   5   0   0   0   0]\n",
            " [  0   0   0   0   0   5   0 167 187 182 198 194 200 226 240 184 206 255\n",
            "  197 178 179  42   0   5   0   0   0   0]\n",
            " [  0   0   0   0   0   3   0 115 135 113 106  85  82 108 133  83  90 121\n",
            "  120 110 158  18   0   3   0   0   0   0]]\n"
          ]
        },
        {
          "output_type": "display_data",
          "data": {
            "image/png": "[encoded data removed]",
            "text/plain": [
              "<Figure size 432x288 with 1 Axes>"
            ]
          },
          "metadata": {
            "needs_background": "light"
          }
        }
      ]
    },
    {
      "cell_type": "markdown",
      "source": [
        ""
      ],
      "metadata": {
        "id": "QWn1dGIjqH5y"
      }
    },
    {
      "cell_type": "code",
      "source": [
        "training_images = training_images / 255.0\n",
        "test_images = test_images / 255.0\n",
        "\n",
        "print(\"Data Image\", training_images[10])\n",
        "plt.imshow(training_images[10])\n"
      ],
      "metadata": {
        "colab": {
          "base_uri": "https://localhost:8080/",
          "height": 1000
        },
        "id": "OlPlMmAEqpiP",
        "outputId": "0c7c9aad-46ea-4088-8980-1a6800d60a31"
      },
      "execution_count": null,
      "outputs": [
        {
          "output_type": "stream",
          "name": "stdout",
          "text": [
            "Data Image [[0.00000000e+00 0.00000000e+00 0.00000000e+00 0.00000000e+00\n",
            "  0.00000000e+00 0.00000000e+00 0.00000000e+00 1.69165705e-04\n",
            "  2.18377547e-03 3.07574010e-03 1.63014225e-03 0.00000000e+00\n",
            "  0.00000000e+00 0.00000000e+00 0.00000000e+00 0.00000000e+00\n",
            "  0.00000000e+00 0.00000000e+00 1.30718954e-03 2.84505959e-03\n",
            "  1.72241446e-03 0.00000000e+00 0.00000000e+00 0.00000000e+00\n",
            "  0.00000000e+00 0.00000000e+00 0.00000000e+00 0.00000000e+00]\n",
            " [0.00000000e+00 0.00000000e+00 0.00000000e+00 0.00000000e+00\n",
            "  0.00000000e+00 0.00000000e+00 2.33756248e-03 3.29104191e-03\n",
            "  3.33717801e-03 2.98346790e-03 3.62937332e-03 3.32179931e-03\n",
            "  2.87581699e-03 2.29142637e-03 2.07612457e-03 2.35294118e-03\n",
            "  3.24490581e-03 3.33717801e-03 3.55247982e-03 3.15263360e-03\n",
            "  3.33717801e-03 2.89119569e-03 5.22875817e-04 0.00000000e+00\n",
            "  0.00000000e+00 0.00000000e+00 0.00000000e+00 0.00000000e+00]\n",
            " [0.00000000e+00 0.00000000e+00 0.00000000e+00 0.00000000e+00\n",
            "  0.00000000e+00 1.01499423e-03 2.84505959e-03 2.55286428e-03\n",
            "  2.76816609e-03 2.78354479e-03 2.92195309e-03 3.24490581e-03\n",
            "  3.39869281e-03 3.02960400e-03 2.24529027e-03 3.04498270e-03\n",
            "  3.16801230e-03 2.93733180e-03 2.58362168e-03 2.92195309e-03\n",
            "  2.64513649e-03 2.89119569e-03 2.69127259e-03 0.00000000e+00\n",
            "  0.00000000e+00 0.00000000e+00 0.00000000e+00 0.00000000e+00]\n",
            " [0.00000000e+00 0.00000000e+00 0.00000000e+00 0.00000000e+00\n",
            "  0.00000000e+00 2.07612457e-03 2.35294118e-03 2.46059208e-03\n",
            "  2.69127259e-03 2.76816609e-03 2.61437908e-03 2.86043829e-03\n",
            "  2.87581699e-03 2.92195309e-03 2.89119569e-03 2.92195309e-03\n",
            "  2.87581699e-03 2.67589389e-03 2.99884660e-03 2.84505959e-03\n",
            "  2.67589389e-03 2.47597078e-03 2.69127259e-03 9.07343329e-04\n",
            "  0.00000000e+00 0.00000000e+00 0.00000000e+00 0.00000000e+00]\n",
            " [0.00000000e+00 0.00000000e+00 0.00000000e+00 0.00000000e+00\n",
            "  0.00000000e+00 2.47597078e-03 2.26066897e-03 2.46059208e-03\n",
            "  2.61437908e-03 2.73740869e-03 2.72202999e-03 2.76816609e-03\n",
            "  2.58362168e-03 2.66051519e-03 2.67589389e-03 2.62975779e-03\n",
            "  2.84505959e-03 2.82968089e-03 2.84505959e-03 2.64513649e-03\n",
            "  2.62975779e-03 2.52210688e-03 2.67589389e-03 1.84544406e-03\n",
            "  0.00000000e+00 0.00000000e+00 0.00000000e+00 0.00000000e+00]\n",
            " [0.00000000e+00 0.00000000e+00 0.00000000e+00 0.00000000e+00\n",
            "  3.07574010e-05 2.69127259e-03 2.24529027e-03 2.22991157e-03\n",
            "  2.58362168e-03 2.73740869e-03 2.78354479e-03 2.84505959e-03\n",
            "  2.76816609e-03 2.82968089e-03 2.73740869e-03 2.75278739e-03\n",
            "  2.87581699e-03 2.93733180e-03 2.96808920e-03 2.92195309e-03\n",
            "  2.78354479e-03 2.62975779e-03 2.64513649e-03 2.42983468e-03\n",
            "  0.00000000e+00 0.00000000e+00 0.00000000e+00 0.00000000e+00]\n",
            " [0.00000000e+00 0.00000000e+00 0.00000000e+00 0.00000000e+00\n",
            "  5.38254517e-04 2.72202999e-03 2.38369858e-03 2.15301807e-03\n",
            "  2.32218378e-03 2.64513649e-03 2.93733180e-03 2.87581699e-03\n",
            "  2.86043829e-03 2.87581699e-03 2.86043829e-03 2.87581699e-03\n",
            "  2.79892349e-03 2.93733180e-03 2.98346790e-03 2.89119569e-03\n",
            "  2.76816609e-03 2.47597078e-03 2.47597078e-03 2.84505959e-03\n",
            "  0.00000000e+00 0.00000000e+00 0.00000000e+00 0.00000000e+00]\n",
            " [0.00000000e+00 0.00000000e+00 0.00000000e+00 0.00000000e+00\n",
            "  9.07343329e-04 2.61437908e-03 2.35294118e-03 2.16839677e-03\n",
            "  1.84544406e-03 2.36831988e-03 2.46059208e-03 2.47597078e-03\n",
            "  2.64513649e-03 2.58362168e-03 2.55286428e-03 2.47597078e-03\n",
            "  2.53748558e-03 2.64513649e-03 2.61437908e-03 2.52210688e-03\n",
            "  2.13763937e-03 2.29142637e-03 2.49134948e-03 2.55286428e-03\n",
            "  3.22952710e-04 0.00000000e+00 0.00000000e+00 0.00000000e+00]\n",
            " [0.00000000e+00 0.00000000e+00 0.00000000e+00 0.00000000e+00\n",
            "  1.21491734e-03 2.22991157e-03 2.46059208e-03 3.29104191e-03\n",
            "  1.89158016e-03 1.96847366e-03 2.35294118e-03 2.46059208e-03\n",
            "  2.52210688e-03 2.42983468e-03 2.41445598e-03 2.36831988e-03\n",
            "  2.38369858e-03 2.61437908e-03 2.53748558e-03 2.16839677e-03\n",
            "  2.99884660e-03 2.96808920e-03 2.33756248e-03 2.55286428e-03\n",
            "  9.38100730e-04 0.00000000e+00 0.00000000e+00 0.00000000e+00]\n",
            " [0.00000000e+00 0.00000000e+00 0.00000000e+00 0.00000000e+00\n",
            "  1.53787005e-03 2.41445598e-03 3.46020761e-03 3.76778162e-03\n",
            "  2.69127259e-03 1.73779316e-03 2.67589389e-03 2.42983468e-03\n",
            "  2.42983468e-03 2.46059208e-03 2.38369858e-03 2.46059208e-03\n",
            "  2.52210688e-03 2.73740869e-03 2.89119569e-03 2.07612457e-03\n",
            "  2.84505959e-03 3.69088812e-03 3.09111880e-03 2.64513649e-03\n",
            "  1.66089965e-03 0.00000000e+00 0.00000000e+00 0.00000000e+00]\n",
            " [0.00000000e+00 0.00000000e+00 0.00000000e+00 0.00000000e+00\n",
            "  0.00000000e+00 4.76739715e-04 2.67589389e-03 4.30603614e-04\n",
            "  1.93771626e-03 2.35294118e-03 2.55286428e-03 2.33756248e-03\n",
            "  2.42983468e-03 2.42983468e-03 2.46059208e-03 2.47597078e-03\n",
            "  2.41445598e-03 2.58362168e-03 2.93733180e-03 2.89119569e-03\n",
            "  2.76816609e-04 2.02998847e-03 2.44521338e-03 1.07650903e-04\n",
            "  0.00000000e+00 0.00000000e+00 0.00000000e+00 0.00000000e+00]\n",
            " [0.00000000e+00 0.00000000e+00 0.00000000e+00 0.00000000e+00\n",
            "  0.00000000e+00 0.00000000e+00 0.00000000e+00 0.00000000e+00\n",
            "  1.26105344e-03 2.87581699e-03 2.44521338e-03 2.35294118e-03\n",
            "  2.41445598e-03 2.42983468e-03 2.49134948e-03 2.52210688e-03\n",
            "  2.52210688e-03 2.36831988e-03 2.87581699e-03 2.92195309e-03\n",
            "  0.00000000e+00 0.00000000e+00 0.00000000e+00 0.00000000e+00\n",
            "  0.00000000e+00 0.00000000e+00 0.00000000e+00 0.00000000e+00]\n",
            " [0.00000000e+00 0.00000000e+00 0.00000000e+00 0.00000000e+00\n",
            "  1.53787005e-05 4.61361015e-05 7.68935025e-05 0.00000000e+00\n",
            "  5.69011918e-04 2.69127259e-03 2.42983468e-03 2.38369858e-03\n",
            "  2.49134948e-03 2.42983468e-03 2.46059208e-03 2.49134948e-03\n",
            "  2.53748558e-03 2.35294118e-03 2.72202999e-03 3.15263360e-03\n",
            "  0.00000000e+00 0.00000000e+00 4.61361015e-05 4.61361015e-05\n",
            "  0.00000000e+00 0.00000000e+00 0.00000000e+00 0.00000000e+00]\n",
            " [0.00000000e+00 0.00000000e+00 0.00000000e+00 0.00000000e+00\n",
            "  0.00000000e+00 0.00000000e+00 1.53787005e-05 0.00000000e+00\n",
            "  3.84467512e-04 2.69127259e-03 2.33756248e-03 2.46059208e-03\n",
            "  2.42983468e-03 2.47597078e-03 2.46059208e-03 2.52210688e-03\n",
            "  2.52210688e-03 2.47597078e-03 2.55286428e-03 3.07574010e-03\n",
            "  0.00000000e+00 0.00000000e+00 1.53787005e-05 0.00000000e+00\n",
            "  0.00000000e+00 0.00000000e+00 0.00000000e+00 0.00000000e+00]\n",
            " [0.00000000e+00 0.00000000e+00 0.00000000e+00 0.00000000e+00\n",
            "  0.00000000e+00 0.00000000e+00 6.15148020e-05 0.00000000e+00\n",
            "  4.61361015e-04 2.62975779e-03 2.26066897e-03 2.52210688e-03\n",
            "  2.38369858e-03 2.53748558e-03 2.47597078e-03 2.53748558e-03\n",
            "  2.49134948e-03 2.61437908e-03 2.52210688e-03 2.49134948e-03\n",
            "  0.00000000e+00 0.00000000e+00 3.07574010e-05 0.00000000e+00\n",
            "  0.00000000e+00 0.00000000e+00 0.00000000e+00 0.00000000e+00]\n",
            " [0.00000000e+00 0.00000000e+00 0.00000000e+00 0.00000000e+00\n",
            "  0.00000000e+00 0.00000000e+00 6.15148020e-05 0.00000000e+00\n",
            "  8.76585928e-04 2.55286428e-03 2.38369858e-03 2.52210688e-03\n",
            "  2.55286428e-03 2.47597078e-03 2.47597078e-03 2.52210688e-03\n",
            "  2.56824298e-03 2.53748558e-03 2.53748558e-03 2.49134948e-03\n",
            "  4.30603614e-04 0.00000000e+00 4.61361015e-05 0.00000000e+00\n",
            "  0.00000000e+00 0.00000000e+00 0.00000000e+00 0.00000000e+00]\n",
            " [0.00000000e+00 0.00000000e+00 0.00000000e+00 0.00000000e+00\n",
            "  0.00000000e+00 0.00000000e+00 4.61361015e-05 0.00000000e+00\n",
            "  1.75317186e-03 2.47597078e-03 2.47597078e-03 2.55286428e-03\n",
            "  2.44521338e-03 2.58362168e-03 2.47597078e-03 2.47597078e-03\n",
            "  2.64513649e-03 2.49134948e-03 2.53748558e-03 2.62975779e-03\n",
            "  7.68935025e-04 0.00000000e+00 7.68935025e-05 0.00000000e+00\n",
            "  0.00000000e+00 0.00000000e+00 0.00000000e+00 0.00000000e+00]\n",
            " [0.00000000e+00 0.00000000e+00 0.00000000e+00 0.00000000e+00\n",
            "  0.00000000e+00 0.00000000e+00 1.53787005e-05 0.00000000e+00\n",
            "  2.29142637e-03 2.41445598e-03 2.56824298e-03 2.64513649e-03\n",
            "  2.44521338e-03 2.64513649e-03 2.52210688e-03 2.47597078e-03\n",
            "  2.64513649e-03 2.61437908e-03 2.46059208e-03 2.62975779e-03\n",
            "  1.36870434e-03 0.00000000e+00 6.15148020e-05 0.00000000e+00\n",
            "  0.00000000e+00 0.00000000e+00 0.00000000e+00 0.00000000e+00]\n",
            " [0.00000000e+00 0.00000000e+00 0.00000000e+00 0.00000000e+00\n",
            "  0.00000000e+00 3.07574010e-05 0.00000000e+00 6.15148020e-05\n",
            "  2.62975779e-03 2.52210688e-03 2.55286428e-03 2.66051519e-03\n",
            "  2.44521338e-03 2.75278739e-03 2.55286428e-03 2.46059208e-03\n",
            "  2.67589389e-03 2.56824298e-03 2.49134948e-03 2.55286428e-03\n",
            "  1.96847366e-03 0.00000000e+00 3.07574010e-05 0.00000000e+00\n",
            "  0.00000000e+00 0.00000000e+00 0.00000000e+00 0.00000000e+00]\n",
            " [0.00000000e+00 0.00000000e+00 0.00000000e+00 0.00000000e+00\n",
            "  0.00000000e+00 4.61361015e-05 0.00000000e+00 2.76816609e-04\n",
            "  2.33756248e-03 2.66051519e-03 2.46059208e-03 2.75278739e-03\n",
            "  2.36831988e-03 2.78354479e-03 2.55286428e-03 2.52210688e-03\n",
            "  2.69127259e-03 2.61437908e-03 2.55286428e-03 2.61437908e-03\n",
            "  2.52210688e-03 0.00000000e+00 0.00000000e+00 1.53787005e-05\n",
            "  0.00000000e+00 0.00000000e+00 0.00000000e+00 0.00000000e+00]\n",
            " [0.00000000e+00 0.00000000e+00 0.00000000e+00 0.00000000e+00\n",
            "  0.00000000e+00 6.15148020e-05 0.00000000e+00 7.22798923e-04\n",
            "  2.53748558e-03 2.64513649e-03 2.56824298e-03 2.84505959e-03\n",
            "  2.35294118e-03 2.87581699e-03 2.66051519e-03 2.53748558e-03\n",
            "  2.67589389e-03 2.75278739e-03 2.55286428e-03 2.55286428e-03\n",
            "  2.42983468e-03 7.68935025e-05 0.00000000e+00 4.61361015e-05\n",
            "  0.00000000e+00 0.00000000e+00 0.00000000e+00 0.00000000e+00]\n",
            " [0.00000000e+00 0.00000000e+00 0.00000000e+00 0.00000000e+00\n",
            "  0.00000000e+00 6.15148020e-05 0.00000000e+00 1.33794694e-03\n",
            "  2.76816609e-03 2.49134948e-03 2.75278739e-03 2.75278739e-03\n",
            "  2.41445598e-03 2.93733180e-03 2.79892349e-03 2.53748558e-03\n",
            "  2.58362168e-03 2.92195309e-03 2.66051519e-03 2.53748558e-03\n",
            "  2.55286428e-03 3.07574010e-04 0.00000000e+00 6.15148020e-05\n",
            "  0.00000000e+00 0.00000000e+00 0.00000000e+00 0.00000000e+00]\n",
            " [0.00000000e+00 0.00000000e+00 0.00000000e+00 0.00000000e+00\n",
            "  0.00000000e+00 6.15148020e-05 0.00000000e+00 1.61476355e-03\n",
            "  2.87581699e-03 2.41445598e-03 2.98346790e-03 2.69127259e-03\n",
            "  2.47597078e-03 2.92195309e-03 2.82968089e-03 2.61437908e-03\n",
            "  2.42983468e-03 3.15263360e-03 2.72202999e-03 2.58362168e-03\n",
            "  2.62975779e-03 6.76662822e-04 0.00000000e+00 6.15148020e-05\n",
            "  0.00000000e+00 0.00000000e+00 0.00000000e+00 0.00000000e+00]\n",
            " [0.00000000e+00 0.00000000e+00 0.00000000e+00 0.00000000e+00\n",
            "  0.00000000e+00 7.68935025e-05 0.00000000e+00 2.12226067e-03\n",
            "  2.78354479e-03 2.42983468e-03 3.15263360e-03 2.46059208e-03\n",
            "  2.56824298e-03 2.92195309e-03 3.04498270e-03 2.56824298e-03\n",
            "  2.33756248e-03 3.35255671e-03 2.86043829e-03 2.61437908e-03\n",
            "  2.64513649e-03 8.76585928e-04 0.00000000e+00 7.68935025e-05\n",
            "  0.00000000e+00 0.00000000e+00 0.00000000e+00 0.00000000e+00]\n",
            " [0.00000000e+00 0.00000000e+00 0.00000000e+00 0.00000000e+00\n",
            "  0.00000000e+00 7.68935025e-05 0.00000000e+00 2.07612457e-03\n",
            "  2.67589389e-03 2.56824298e-03 3.06036140e-03 2.38369858e-03\n",
            "  2.55286428e-03 3.09111880e-03 3.36793541e-03 2.53748558e-03\n",
            "  2.42983468e-03 3.35255671e-03 2.89119569e-03 2.56824298e-03\n",
            "  2.69127259e-03 8.61207228e-04 0.00000000e+00 1.07650903e-04\n",
            "  0.00000000e+00 0.00000000e+00 0.00000000e+00 0.00000000e+00]\n",
            " [0.00000000e+00 0.00000000e+00 0.00000000e+00 0.00000000e+00\n",
            "  0.00000000e+00 7.68935025e-05 0.00000000e+00 1.98385236e-03\n",
            "  2.62975779e-03 2.64513649e-03 2.72202999e-03 2.35294118e-03\n",
            "  2.44521338e-03 3.16801230e-03 3.32179931e-03 2.27604767e-03\n",
            "  2.41445598e-03 3.16801230e-03 2.92195309e-03 2.53748558e-03\n",
            "  2.69127259e-03 7.38177624e-04 0.00000000e+00 7.68935025e-05\n",
            "  0.00000000e+00 0.00000000e+00 0.00000000e+00 0.00000000e+00]\n",
            " [0.00000000e+00 0.00000000e+00 0.00000000e+00 0.00000000e+00\n",
            "  0.00000000e+00 7.68935025e-05 0.00000000e+00 2.56824298e-03\n",
            "  2.87581699e-03 2.79892349e-03 3.04498270e-03 2.98346790e-03\n",
            "  3.07574010e-03 3.47558631e-03 3.69088812e-03 2.82968089e-03\n",
            "  3.16801230e-03 3.92156863e-03 3.02960400e-03 2.73740869e-03\n",
            "  2.75278739e-03 6.45905421e-04 0.00000000e+00 7.68935025e-05\n",
            "  0.00000000e+00 0.00000000e+00 0.00000000e+00 0.00000000e+00]\n",
            " [0.00000000e+00 0.00000000e+00 0.00000000e+00 0.00000000e+00\n",
            "  0.00000000e+00 4.61361015e-05 0.00000000e+00 1.76855056e-03\n",
            "  2.07612457e-03 1.73779316e-03 1.63014225e-03 1.30718954e-03\n",
            "  1.26105344e-03 1.66089965e-03 2.04536717e-03 1.27643214e-03\n",
            "  1.38408304e-03 1.86082276e-03 1.84544406e-03 1.69165705e-03\n",
            "  2.42983468e-03 2.76816609e-04 0.00000000e+00 4.61361015e-05\n",
            "  0.00000000e+00 0.00000000e+00 0.00000000e+00 0.00000000e+00]]\n"
          ]
        },
        {
          "output_type": "execute_result",
          "data": {
            "text/plain": [
              "<matplotlib.image.AxesImage at 0x7f80b5f52790>"
            ]
          },
          "metadata": {},
          "execution_count": 9
        },
        {
          "output_type": "display_data",
          "data": {
            "image/png": "[encoded data removed]",
            "text/plain": [
              "<Figure size 432x288 with 1 Axes>"
            ]
          },
          "metadata": {
            "needs_background": "light"
          }
        }
      ]
    },
    {
      "cell_type": "markdown",
      "source": [
        "# Build the Model"
      ],
      "metadata": {
        "id": "R2xsjxQdrqVp"
      }
    },
    {
      "cell_type": "code",
      "source": [
        "# Mendefinisikan model\n",
        "model = tf.keras.models.Sequential([tf.keras.layers.Flatten(),\n",
        "                                    tf.keras.layers.Dense(128, activation=tf.nn.relu),\n",
        "                                    tf.keras.layers.Dense(10,activation=tf.nn.softmax)])"
      ],
      "metadata": {
        "id": "O-qE3aSOrt1d"
      },
      "execution_count": null,
      "outputs": []
    },
    {
      "cell_type": "markdown",
      "source": [
        "Definisi:\n",
        "1. **Sequential**: Mendedinisikan urutan lapisan dalam jaringan NN\n",
        "2. **Flatten**   : Mengubah gambar menjadi satu dimensi. Ingat bahwa gambar kita berbentuk persegi 28x28 diubah menjadi 784x1\n",
        "3. **Dense**     : menambahkan lapisan neuron\n",
        "\n",
        "Setiap lapisan neuron membutuhkan fungsi aktivasi untuk memberi tahu neuron mana yang mengandung informasi\n",
        "1. **Relu**      : jika x>0 mengembalikan x, jika tidak mengembalikan 0\n",
        "2. **Softmax**   : mengambil satu set nilai, lalu memilih nilai yang terbesar. Misalnya pada output layer, NN mengembalikan nilai `[0.1, 0.2, 0.5, 0.1, 0.1, 8.5, 0.5, 0.1]` maka softmax akan mengubahnya menjadi `[ 0, 0, 0, 0, 1, 0]`"
      ],
      "metadata": {
        "id": "uoQ8aZ7osRHm"
      }
    },
    {
      "cell_type": "markdown",
      "source": [
        "Selanjutnya adalah membungkus model yang akan didefinisikan sebelumnya.\n",
        "Ketika proses compile, kita menambahkan optimizer dan loss function"
      ],
      "metadata": {
        "id": "nt6ENgwKwWqX"
      }
    },
    {
      "cell_type": "code",
      "source": [
        "# Compile model\n",
        "\n",
        "model.compile(optimizer = tf.keras.optimizers.Adam(),\n",
        "              loss = 'sparse_categorical_crossentropy',\n",
        "              metrics = ['accuracy'])\n"
      ],
      "metadata": {
        "id": "yov7wDQkwtw-"
      },
      "execution_count": null,
      "outputs": []
    },
    {
      "cell_type": "code",
      "source": [
        "tf.random.set_seed(50)"
      ],
      "metadata": {
        "id": "VdmydihNz4NM"
      },
      "execution_count": null,
      "outputs": []
    },
    {
      "cell_type": "code",
      "source": [
        "%%time\n",
        "\n",
        "model.fit(training_images, training_labels, epochs=5)"
      ],
      "metadata": {
        "colab": {
          "base_uri": "https://localhost:8080/"
        },
        "id": "GTDiI1u5yIpg",
        "outputId": "322a2041-9c9a-477b-b205-790715b877fe"
      },
      "execution_count": null,
      "outputs": [
        {
          "output_type": "stream",
          "name": "stdout",
          "text": [
            "Epoch 1/5\n",
            "1875/1875 [==============================] - 6s 3ms/step - loss: 0.2109 - accuracy: 0.9214\n",
            "Epoch 2/5\n",
            "1875/1875 [==============================] - 6s 3ms/step - loss: 0.2018 - accuracy: 0.9240\n",
            "Epoch 3/5\n",
            "1875/1875 [==============================] - 6s 3ms/step - loss: 0.1955 - accuracy: 0.9249\n",
            "Epoch 4/5\n",
            "1875/1875 [==============================] - 7s 4ms/step - loss: 0.1890 - accuracy: 0.9275\n",
            "Epoch 5/5\n",
            "1875/1875 [==============================] - 6s 3ms/step - loss: 0.1799 - accuracy: 0.9308\n",
            "CPU times: user 32.5 s, sys: 3.82 s, total: 36.3 s\n",
            "Wall time: 31.8 s\n"
          ]
        },
        {
          "output_type": "execute_result",
          "data": {
            "text/plain": [
              "<keras.callbacks.History at 0x7f803c1ccfd0>"
            ]
          },
          "metadata": {},
          "execution_count": 40
        }
      ]
    },
    {
      "cell_type": "code",
      "source": [
        "# evaluasi model\n",
        "model.evaluate(test_images, test_labels)\n"
      ],
      "metadata": {
        "colab": {
          "base_uri": "https://localhost:8080/"
        },
        "id": "LpIc4v9g1Unc",
        "outputId": "7b112adf-c244-4931-9ba8-fd8dd8799aa4"
      },
      "execution_count": null,
      "outputs": [
        {
          "output_type": "stream",
          "name": "stdout",
          "text": [
            "313/313 [==============================] - 1s 3ms/step - loss: 0.4585 - accuracy: 0.8369\n"
          ]
        },
        {
          "output_type": "execute_result",
          "data": {
            "text/plain": [
              "[0.4585208594799042, 0.836899995803833]"
            ]
          },
          "metadata": {},
          "execution_count": 29
        }
      ]
    },
    {
      "cell_type": "markdown",
      "source": [
        "# Eksplorasi"
      ],
      "metadata": {
        "id": "6NhYZ-9J2OSf"
      }
    },
    {
      "cell_type": "markdown",
      "source": [
        "## Latihan 1"
      ],
      "metadata": {
        "id": "8MoMcAPH2WOE"
      }
    },
    {
      "cell_type": "code",
      "source": [
        "classification = model.predict(test_images)\n",
        "\n",
        "# melihat hasil prediksi dari indeks ke-n\n",
        "print(classification[9])"
      ],
      "metadata": {
        "colab": {
          "base_uri": "https://localhost:8080/"
        },
        "id": "KyDHhyoc2fwC",
        "outputId": "100b0412-b7a3-48c6-ea87-f0b8af9e1217"
      },
      "execution_count": null,
      "outputs": [
        {
          "output_type": "stream",
          "name": "stdout",
          "text": [
            "[1.2109477e-06 1.2456541e-06 1.3159992e-06 6.5695122e-06 7.6311089e-06\n",
            " 9.8842513e-03 4.2808151e-06 9.8897588e-01 8.1248314e-04 3.0520349e-04]\n"
          ]
        }
      ]
    },
    {
      "cell_type": "code",
      "source": [
        "print(test_labels[9])"
      ],
      "metadata": {
        "colab": {
          "base_uri": "https://localhost:8080/"
        },
        "id": "GuDCW5x13HQh",
        "outputId": "05647655-3b42-4e83-89c7-561bbe62cc66"
      },
      "execution_count": null,
      "outputs": [
        {
          "output_type": "stream",
          "name": "stdout",
          "text": [
            "7\n"
          ]
        }
      ]
    },
    {
      "cell_type": "markdown",
      "source": [
        "# Latihan 2\n",
        "\n",
        "Mencoba nilai yang berbeda untuk dense layer"
      ],
      "metadata": {
        "id": "H6NbBO4f4T1-"
      }
    },
    {
      "cell_type": "code",
      "source": [
        "mnist = tf.keras.datasets.fashion_mnist\n",
        "\n",
        "(training_images, training_labels), (test_images, test_labels) = mnist.load_data()\n",
        "\n",
        "training_images = training_images / 255.0\n",
        "test_images = test_images / 255.0\n",
        "\n",
        "# Mendefinisikan model\n",
        "model = tf.keras.models.Sequential([tf.keras.layers.Flatten(),\n",
        "                                    tf.keras.layers.Dense(1024, activation=tf.nn.relu),\n",
        "                                    tf.keras.layers.Dense(10,activation=tf.nn.softmax)])\n",
        "\n",
        "# Compile model\n",
        "model.compile(optimizer = tf.keras.optimizers.Adam(),\n",
        "              loss = 'sparse_categorical_crossentropy',\n",
        "              metrics = ['accuracy'])\n",
        "\n",
        "tf.random.set_seed(50)\n"
      ],
      "metadata": {
        "id": "n6k9YbTN4bdt"
      },
      "execution_count": null,
      "outputs": []
    },
    {
      "cell_type": "code",
      "source": [
        "%%time\n",
        "\n",
        "model.fit(training_images, training_labels, epochs=5)"
      ],
      "metadata": {
        "colab": {
          "base_uri": "https://localhost:8080/"
        },
        "id": "8Lw6vnRj54uW",
        "outputId": "fe8e126e-9a05-44e4-a4a1-c9031297c95f"
      },
      "execution_count": null,
      "outputs": [
        {
          "output_type": "stream",
          "name": "stdout",
          "text": [
            "Epoch 1/5\n",
            "1875/1875 [==============================] - 6s 3ms/step - loss: 0.4683 - accuracy: 0.8315\n",
            "Epoch 2/5\n",
            "1875/1875 [==============================] - 6s 3ms/step - loss: 0.3574 - accuracy: 0.8700\n",
            "Epoch 3/5\n",
            "1875/1875 [==============================] - 6s 3ms/step - loss: 0.3219 - accuracy: 0.8820\n",
            "Epoch 4/5\n",
            "1875/1875 [==============================] - 6s 3ms/step - loss: 0.2960 - accuracy: 0.8893\n",
            "Epoch 5/5\n",
            "1875/1875 [==============================] - 6s 3ms/step - loss: 0.2793 - accuracy: 0.8957\n",
            "CPU times: user 32 s, sys: 3.78 s, total: 35.8 s\n",
            "Wall time: 41.5 s\n"
          ]
        },
        {
          "output_type": "execute_result",
          "data": {
            "text/plain": [
              "<keras.callbacks.History at 0x7f803baacad0>"
            ]
          },
          "metadata": {},
          "execution_count": 37
        }
      ]
    },
    {
      "cell_type": "markdown",
      "source": [
        ""
      ],
      "metadata": {
        "id": "UyTgAC-c6x9L"
      }
    },
    {
      "cell_type": "markdown",
      "source": [
        "# Latihan 3"
      ],
      "metadata": {
        "id": "trjhzfRI699d"
      }
    },
    {
      "cell_type": "code",
      "source": [
        "mnist = tf.keras.datasets.fashion_mnist\n",
        "\n",
        "(training_images, training_labels), (test_images, test_labels) = mnist.load_data()\n",
        "\n",
        "training_images = training_images / 255.0\n",
        "test_images = test_images / 255.0\n",
        "\n",
        "# Mendefinisikan model\n",
        "model = tf.keras.models.Sequential([tf.keras.layers.Dense(128, activation=tf.nn.relu),\n",
        "                                    tf.keras.layers.Dense(10,activation=tf.nn.softmax)])\n",
        "\n",
        "# Compile model\n",
        "model.compile(optimizer = tf.keras.optimizers.Adam(),\n",
        "              loss = 'sparse_categorical_crossentropy',\n",
        "              metrics = ['accuracy'])\n",
        "\n",
        "tf.random.set_seed(50)"
      ],
      "metadata": {
        "id": "4ZxM8HXx7AGW"
      },
      "execution_count": null,
      "outputs": []
    },
    {
      "cell_type": "markdown",
      "source": [
        "train model"
      ],
      "metadata": {
        "id": "d_cp7QoG7e4i"
      }
    },
    {
      "cell_type": "markdown",
      "source": [
        "# Latihan 4\n",
        "\n",
        "Mengubah nilai pada output layer, misal ganti menjadi 5 neuron"
      ],
      "metadata": {
        "id": "vwDiRqBl7gth"
      }
    },
    {
      "cell_type": "code",
      "source": [
        "mnist = tf.keras.datasets.fashion_mnist\n",
        "\n",
        "(training_images, training_labels), (test_images, test_labels) = mnist.load_data()\n",
        "\n",
        "training_images = training_images / 255.0\n",
        "test_images = test_images / 255.0\n",
        "\n",
        "# Mendefinisikan model\n",
        "model = tf.keras.models.Sequential([tf.keras.layers.Flatten(),\n",
        "                                    tf.keras.layers.Dense(128, activation=tf.nn.relu),\n",
        "                                    tf.keras.layers.Dense(5,activation=tf.nn.softmax)])\n",
        "\n",
        "# Compile model\n",
        "model.compile(optimizer = tf.keras.optimizers.Adam(),\n",
        "              loss = 'sparse_categorical_crossentropy',\n",
        "              metrics = ['accuracy'])\n",
        "\n",
        "tf.random.set_seed(50)"
      ],
      "metadata": {
        "id": "taXK5wXw7jnR"
      },
      "execution_count": null,
      "outputs": []
    },
    {
      "cell_type": "code",
      "source": [
        "%%time\n",
        "\n",
        "model.fit(training_images, training_labels, epochs=5)"
      ],
      "metadata": {
        "colab": {
          "base_uri": "https://localhost:8080/"
        },
        "id": "0rzTzyja8Dd8",
        "outputId": "e1b426eb-cfc2-4c33-fc98-e2194267e490"
      },
      "execution_count": null,
      "outputs": [
        {
          "output_type": "stream",
          "name": "stdout",
          "text": [
            "Epoch 1/5\n",
            "1875/1875 [==============================] - 5s 3ms/step - loss: nan - accuracy: 0.1000\n",
            "Epoch 2/5\n",
            "1875/1875 [==============================] - 5s 3ms/step - loss: nan - accuracy: 0.1000\n",
            "Epoch 3/5\n",
            "1875/1875 [==============================] - 5s 3ms/step - loss: nan - accuracy: 0.1000\n",
            "Epoch 4/5\n",
            "1875/1875 [==============================] - 5s 3ms/step - loss: nan - accuracy: 0.1000\n",
            "Epoch 5/5\n",
            "1875/1875 [==============================] - 5s 3ms/step - loss: nan - accuracy: 0.1000\n",
            "CPU times: user 26.8 s, sys: 3.27 s, total: 30.1 s\n",
            "Wall time: 41.5 s\n"
          ]
        },
        {
          "output_type": "execute_result",
          "data": {
            "text/plain": [
              "<keras.callbacks.History at 0x7f803c207a10>"
            ]
          },
          "metadata": {},
          "execution_count": 43
        }
      ]
    },
    {
      "cell_type": "markdown",
      "source": [
        "### Latihan 5"
      ],
      "metadata": {
        "id": "OryigRVfapMr"
      }
    },
    {
      "cell_type": "code",
      "source": [
        "mnist = tf.keras.datasets.fashion_mnist\n",
        "\n",
        "(training_images, training_labels), (test_images, test_labels) = mnist.load_data()\n",
        "\n",
        "training_images = training_images / 255.0\n",
        "test_images = test_images / 255.0\n",
        "\n",
        "# Mendefinisikan model\n",
        "model = tf.keras.models.Sequential([tf.keras.layers.Flatten(),\n",
        "                                    tf.keras.layers.Dense(128, activation=tf.nn.relu),\n",
        "                                     tf.keras.layers.Dense(64, activation=tf.nn.relu),\n",
        "                                    tf.keras.layers.Dense(10,activation=tf.nn.softmax)])\n",
        "\n",
        "# Compile model\n",
        "model.compile(optimizer = tf.keras.optimizers.Adam(),\n",
        "              loss = 'sparse_categorical_crossentropy',\n",
        "              metrics = ['accuracy'])\n",
        "\n",
        "tf.random.set_seed(50)\n"
      ],
      "metadata": {
        "id": "O0W7ucaw8r40"
      },
      "execution_count": null,
      "outputs": []
    },
    {
      "cell_type": "code",
      "source": [
        "%%time\n",
        "\n",
        "model.fit(training_images, training_labels, epochs=5)"
      ],
      "metadata": {
        "colab": {
          "base_uri": "https://localhost:8080/"
        },
        "id": "lsM3RJAJ9IT8",
        "outputId": "81a52793-4929-48d8-e10c-7b38a320d29e"
      },
      "execution_count": null,
      "outputs": [
        {
          "output_type": "stream",
          "name": "stdout",
          "text": [
            "Epoch 1/5\n",
            "1875/1875 [==============================] - 6s 3ms/step - loss: 0.4932 - accuracy: 0.8251\n",
            "Epoch 2/5\n",
            "1875/1875 [==============================] - 5s 3ms/step - loss: 0.3676 - accuracy: 0.8658\n",
            "Epoch 3/5\n",
            "1875/1875 [==============================] - 5s 3ms/step - loss: 0.3320 - accuracy: 0.8786\n",
            "Epoch 4/5\n",
            "1875/1875 [==============================] - 5s 3ms/step - loss: 0.3082 - accuracy: 0.8856\n",
            "Epoch 5/5\n",
            "1875/1875 [==============================] - 5s 3ms/step - loss: 0.2920 - accuracy: 0.8916\n",
            "CPU times: user 27.7 s, sys: 3.53 s, total: 31.2 s\n",
            "Wall time: 41.5 s\n"
          ]
        },
        {
          "output_type": "execute_result",
          "data": {
            "text/plain": [
              "<keras.callbacks.History at 0x7f803c028110>"
            ]
          },
          "metadata": {},
          "execution_count": 47
        }
      ]
    },
    {
      "cell_type": "markdown",
      "source": [
        "## Latihan 6\n",
        "\n",
        "Kita akan mencoba dampak epochs terhadap proses pelatihan model"
      ],
      "metadata": {
        "id": "BZ0ZZQMS-IOT"
      }
    },
    {
      "cell_type": "code",
      "source": [
        "mnist = tf.keras.datasets.fashion_mnist\n",
        "\n",
        "(training_images, training_labels), (test_images, test_labels) = mnist.load_data()\n",
        "\n",
        "training_images = training_images / 255.0\n",
        "test_images = test_images / 255.0\n",
        "\n",
        "# Mendefinisikan model\n",
        "model = tf.keras.models.Sequential([tf.keras.layers.Flatten(),\n",
        "                                    tf.keras.layers.Dense(128, activation=tf.nn.relu),\n",
        "                                    tf.keras.layers.Dense(10,activation=tf.nn.softmax)])\n",
        "\n",
        "# Compile model\n",
        "model.compile(optimizer = tf.keras.optimizers.Adam(),\n",
        "              loss = 'sparse_categorical_crossentropy',\n",
        "              metrics = ['accuracy'])\n",
        "\n",
        "tf.random.set_seed(50)"
      ],
      "metadata": {
        "id": "QdPHHtTM-QME"
      },
      "execution_count": null,
      "outputs": []
    },
    {
      "cell_type": "code",
      "source": [
        "%%time\n",
        "\n",
        "model.fit(training_images, training_labels, epochs=15)"
      ],
      "metadata": {
        "colab": {
          "base_uri": "https://localhost:8080/"
        },
        "id": "8IS_AB-3-ZjO",
        "outputId": "a8a7391a-a5f0-400e-9cb5-291cf371444a"
      },
      "execution_count": null,
      "outputs": [
        {
          "output_type": "stream",
          "name": "stdout",
          "text": [
            "Epoch 1/15\n",
            "1875/1875 [==============================] - 5s 3ms/step - loss: 0.5019 - accuracy: 0.8238\n",
            "Epoch 2/15\n",
            "1875/1875 [==============================] - 5s 3ms/step - loss: 0.3784 - accuracy: 0.8638\n",
            "Epoch 3/15\n",
            "1875/1875 [==============================] - 5s 3ms/step - loss: 0.3409 - accuracy: 0.8752\n",
            "Epoch 4/15\n",
            "1875/1875 [==============================] - 5s 3ms/step - loss: 0.3154 - accuracy: 0.8839\n",
            "Epoch 5/15\n",
            "1875/1875 [==============================] - 5s 3ms/step - loss: 0.2976 - accuracy: 0.8898\n",
            "Epoch 6/15\n",
            "1875/1875 [==============================] - 5s 3ms/step - loss: 0.2821 - accuracy: 0.8953\n",
            "Epoch 7/15\n",
            "1875/1875 [==============================] - 5s 3ms/step - loss: 0.2697 - accuracy: 0.8995\n",
            "Epoch 8/15\n",
            "1875/1875 [==============================] - 5s 3ms/step - loss: 0.2574 - accuracy: 0.9042\n",
            "Epoch 9/15\n",
            "1875/1875 [==============================] - 5s 3ms/step - loss: 0.2500 - accuracy: 0.9069\n",
            "Epoch 10/15\n",
            "1875/1875 [==============================] - 5s 3ms/step - loss: 0.2409 - accuracy: 0.9097\n",
            "Epoch 11/15\n",
            "1875/1875 [==============================] - 5s 3ms/step - loss: 0.2306 - accuracy: 0.9149\n",
            "Epoch 12/15\n",
            "1875/1875 [==============================] - 5s 3ms/step - loss: 0.2248 - accuracy: 0.9153\n",
            "Epoch 13/15\n",
            "1875/1875 [==============================] - 5s 3ms/step - loss: 0.2186 - accuracy: 0.9176\n",
            "Epoch 14/15\n",
            "1875/1875 [==============================] - 5s 3ms/step - loss: 0.2116 - accuracy: 0.9200\n",
            "Epoch 15/15\n",
            "1875/1875 [==============================] - 5s 3ms/step - loss: 0.2048 - accuracy: 0.9230\n",
            "CPU times: user 1min 17s, sys: 10.1 s, total: 1min 28s\n",
            "Wall time: 1min 12s\n"
          ]
        },
        {
          "output_type": "execute_result",
          "data": {
            "text/plain": [
              "<keras.callbacks.History at 0x7f803bf3ad10>"
            ]
          },
          "metadata": {},
          "execution_count": 49
        }
      ]
    },
    {
      "cell_type": "markdown",
      "source": [
        "# Latihan 7\n",
        "\n",
        "Saat melatih dengan banyak epoch, kita tidak ingin model kita stuck. Dari pada kita menunggu keseluruhan pelatihan dengan jumlah epoch yang banyak, kita ingin model kita berhenti belajar ketika akurasi / loss mencapai nilai yang telah ditentukan.\n",
        "\n",
        "Kita akan terapkan `callback`"
      ],
      "metadata": {
        "id": "Zu9dMuHzAMmz"
      }
    },
    {
      "cell_type": "code",
      "source": [
        "mnist = tf.keras.datasets.fashion_mnist\n",
        "\n",
        "class myCallback(tf.keras.callbacks.Callback):\n",
        "  def on_epoch_end(self, epoch, logs={}):\n",
        "    if(logs.get('accuracy') > 0.9):\n",
        "      print('\\nSudah sampai akurasi 90%, stop training!')\n",
        "      self.model.stop_training = True\n",
        "\n",
        "callback = myCallback()\n",
        "\n",
        "(training_images, training_labels), (test_images, test_labels) = mnist.load_data()\n",
        "\n",
        "training_images = training_images / 255.0\n",
        "test_images = test_images / 255.0\n",
        "\n",
        "# Mendefinisikan model\n",
        "model = tf.keras.models.Sequential([tf.keras.layers.Flatten(),\n",
        "                                    tf.keras.layers.Dense(128, activation=tf.nn.relu),\n",
        "                                    tf.keras.layers.Dense(10,activation=tf.nn.softmax)])\n",
        "\n",
        "# Compile model\n",
        "model.compile(optimizer = tf.keras.optimizers.Adam(),\n",
        "              loss = 'sparse_categorical_crossentropy',\n",
        "              metrics = ['accuracy'])\n",
        "\n",
        "tf.random.set_seed(50)"
      ],
      "metadata": {
        "id": "KZP-FaTVAOhe"
      },
      "execution_count": null,
      "outputs": []
    },
    {
      "cell_type": "code",
      "source": [
        "%%time\n",
        "\n",
        "model.fit(training_images, training_labels, epochs=30, callbacks=[callback])"
      ],
      "metadata": {
        "colab": {
          "base_uri": "https://localhost:8080/"
        },
        "id": "ej5wz479BhEr",
        "outputId": "64c5be24-09e5-4c60-9780-7e8654640017"
      },
      "execution_count": null,
      "outputs": [
        {
          "output_type": "stream",
          "name": "stdout",
          "text": [
            "Epoch 1/30\n",
            "1875/1875 [==============================] - 5s 3ms/step - loss: 0.5019 - accuracy: 0.8238\n",
            "Epoch 2/30\n",
            "1875/1875 [==============================] - 6s 3ms/step - loss: 0.3784 - accuracy: 0.8638\n",
            "Epoch 3/30\n",
            "1875/1875 [==============================] - 5s 3ms/step - loss: 0.3409 - accuracy: 0.8752\n",
            "Epoch 4/30\n",
            "1875/1875 [==============================] - 5s 3ms/step - loss: 0.3154 - accuracy: 0.8839\n",
            "Epoch 5/30\n",
            "1875/1875 [==============================] - 5s 3ms/step - loss: 0.2976 - accuracy: 0.8898\n",
            "Epoch 6/30\n",
            "1875/1875 [==============================] - 5s 3ms/step - loss: 0.2821 - accuracy: 0.8953\n",
            "Epoch 7/30\n",
            "1875/1875 [==============================] - 5s 3ms/step - loss: 0.2697 - accuracy: 0.8995\n",
            "Epoch 8/30\n",
            "1865/1875 [============================>.] - ETA: 0s - loss: 0.2571 - accuracy: 0.9044\n",
            "Sudah sampai akurasi 90%, stop training!\n",
            "1875/1875 [==============================] - 5s 3ms/step - loss: 0.2574 - accuracy: 0.9042\n",
            "CPU times: user 41.9 s, sys: 5.41 s, total: 47.3 s\n",
            "Wall time: 40.2 s\n"
          ]
        },
        {
          "output_type": "execute_result",
          "data": {
            "text/plain": [
              "<keras.callbacks.History at 0x7f803bf2c810>"
            ]
          },
          "metadata": {},
          "execution_count": 51
        }
      ]
    }
  ]
}